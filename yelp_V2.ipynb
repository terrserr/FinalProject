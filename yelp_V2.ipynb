{
 "cells": [
  {
   "cell_type": "code",
   "execution_count": null,
   "metadata": {},
   "outputs": [],
   "source": [
    "import requests\n",
    "from pprint import pprint\n",
    "import pandas as pd\n",
    "import numpy as np\n",
    "import requests\n",
    "import json\n",
    "from config import yelp_key_6, yelp_key_7, yelp_key_8, yelp_key_9, yelp_key_10\n",
    "from yelpapi import YelpAPI\n"
   ]
  },
  {
   "cell_type": "code",
   "execution_count": null,
   "metadata": {},
   "outputs": [],
   "source": [
    "num_fastfood_list_1 =[]\n",
    "zip_code_list_1 = []\n",
    "num_fastfood_list_1b =[]\n",
    "zip_code_list_1b = []\n",
    "num_fastfood_list_2 =[]\n",
    "zip_code_list_2 = []\n",
    "num_fastfood_list_3 =[]\n",
    "zip_code_list_3 = []\n",
    "num_fastfood_list_4 =[]\n",
    "zip_code_list_4 = []\n",
    "num_fastfood_list_5 =[]\n",
    "zip_code_list_5 = []"
   ]
  },
  {
   "cell_type": "code",
   "execution_count": null,
   "metadata": {},
   "outputs": [],
   "source": [
    "zip_df = pd.read_csv(\"Merged_V3.csv\")\n",
    "zip_df.head()"
   ]
  },
  {
   "cell_type": "code",
   "execution_count": null,
   "metadata": {},
   "outputs": [],
   "source": [
    "zip_df_1 = zip_df.iloc[0:2302, 0:5]\n",
    "zip_df_1.tail()"
   ]
  },
  {
   "cell_type": "code",
   "execution_count": null,
   "metadata": {},
   "outputs": [],
   "source": [
    "zip_df_1b = zip_df.iloc[2302:4000, 0:5]\n",
    "zip_df_1b.head()"
   ]
  },
  {
   "cell_type": "code",
   "execution_count": null,
   "metadata": {},
   "outputs": [],
   "source": [
    "zip_df_2 = zip_df.iloc[4000:8000, 0:5]\n",
    "zip_df_2.head()"
   ]
  },
  {
   "cell_type": "code",
   "execution_count": null,
   "metadata": {},
   "outputs": [],
   "source": [
    "zip_df_3 = zip_df.iloc[8000:12000, 0:5]\n",
    "zip_df_3.tail()"
   ]
  },
  {
   "cell_type": "code",
   "execution_count": null,
   "metadata": {},
   "outputs": [],
   "source": [
    "zip_df_4 = zip_df.iloc[12000:16000, 0:5]\n",
    "zip_df_4.head()"
   ]
  },
  {
   "cell_type": "code",
   "execution_count": null,
   "metadata": {},
   "outputs": [],
   "source": [
    "zip_df_5 = zip_df.iloc[16000:20738, 0:5]\n",
    "zip_df_5.tail()"
   ]
  },
  {
   "cell_type": "code",
   "execution_count": null,
   "metadata": {},
   "outputs": [],
   "source": [
    "#testing our api call\n",
    "yelp_api = YelpAPI(yelp_key_6)\n",
    "search_results = yelp_api.search_query(term=\"fast food\", location= \"0\"+\"1001\")"
   ]
  },
  {
   "cell_type": "code",
   "execution_count": null,
   "metadata": {},
   "outputs": [],
   "source": [
    "pprint(search_results)"
   ]
  },
  {
   "cell_type": "code",
   "execution_count": null,
   "metadata": {},
   "outputs": [],
   "source": [
    "print(search_results['total'])"
   ]
  },
  {
   "cell_type": "code",
   "execution_count": null,
   "metadata": {},
   "outputs": [],
   "source": [
    "# use iterrows to iterate through pandas dataframe and find #of fastfood\n",
    "for index, row in zip_df_1.iterrows():\n",
    "\n",
    "    # get restaurant type from df\n",
    "    place = \"0\" + str(row['ZIP Code'])\n",
    "\n",
    "    # assemble url and make API request\n",
    "    print(f\"Retrieving Results for Index {index}: {place}.\")\n",
    "    \n",
    "    \n",
    "    \n",
    "    try:\n",
    "        response = yelp_api.search_query(term=\"fast food\", location= place)\n",
    "        print(f\"The amount of fast food restaurants in {place} is {response['total']}.\")\n",
    "        num_fastfood_list_1.append(response[\"total\"])\n",
    "        zip_code_list_1.append(place)\n",
    "        \n",
    "    except (Exception):\n",
    "            print(\"Missing field/result... skipping.\")\n",
    "    print(\"------------\")"
   ]
  },
  {
   "cell_type": "code",
   "execution_count": null,
   "metadata": {},
   "outputs": [],
   "source": [
    "print(len(num_fastfood_list_1))"
   ]
  },
  {
   "cell_type": "code",
   "execution_count": null,
   "metadata": {},
   "outputs": [],
   "source": [
    "# use iterrows to iterate through pandas dataframe and find #of fastfood\n",
    "for index, row in zip_df_1b.iterrows():\n",
    "\n",
    "    # get restaurant type from df\n",
    "    place = row['ZIP Code']\n",
    "\n",
    "    # assemble url and make API request\n",
    "    print(f\"Retrieving Results for Index {index}: {place}.\")\n",
    "    \n",
    "    \n",
    "    \n",
    "    try:\n",
    "        response = yelp_api.search_query(term=\"fast food\", location=place)\n",
    "        print(f\"The amount of fast food restaurants in {place} is {response['total']}.\")\n",
    "        num_fastfood_list_1b.append(response[\"total\"])\n",
    "        zip_code_list_1b.append(place)\n",
    "        \n",
    "    except (Exception):\n",
    "            print(\"Missing field/result... skipping.\")\n",
    "    print(\"------------\")"
   ]
  },
  {
   "cell_type": "code",
   "execution_count": null,
   "metadata": {},
   "outputs": [],
   "source": [
    "yelp_api = YelpAPI(yelp_key_7)\n",
    "for index, row in zip_df_2.iterrows():\n",
    "\n",
    "    # get restaurant type from df\n",
    "    place = row['ZIP Code']\n",
    "\n",
    "    # assemble url and make API request\n",
    "    print(f\"Retrieving Results for Index {index}: {place}.\")\n",
    "    \n",
    "    \n",
    "    \n",
    "    try:\n",
    "        response = yelp_api.search_query(term=\"fast food\", location=place)\n",
    "        print(f\"The amount of fast food restaurants in {place} is {response['total']}.\")\n",
    "        num_fastfood_list_2.append(response[\"total\"])\n",
    "        zip_code_list_2.append(place)\n",
    "    except (Exception):\n",
    "            print(\"Missing field/result... skipping.\")\n",
    "    print(\"------------\")"
   ]
  },
  {
   "cell_type": "code",
   "execution_count": null,
   "metadata": {},
   "outputs": [],
   "source": [
    "print(len(num_fastfood_list_2))"
   ]
  },
  {
   "cell_type": "code",
   "execution_count": null,
   "metadata": {},
   "outputs": [],
   "source": [
    "yelp_api = YelpAPI(yelp_key_8)\n",
    "for index, row in zip_df_3.iterrows():\n",
    "\n",
    "    # get restaurant type from df\n",
    "    place = row['ZIP Code']\n",
    "\n",
    "    # assemble url and make API request\n",
    "    print(f\"Retrieving Results for Index {index}: {place}.\")\n",
    "    \n",
    "    \n",
    "    \n",
    "    try:\n",
    "        response = yelp_api.search_query(term=\"fast food\", location=place)\n",
    "        print(f\"The amount of fast food restaurants in {place} is {response['total']}.\")\n",
    "        num_fastfood_list_3.append(response[\"total\"])\n",
    "        zip_code_list_3.append(place)\n",
    "    except (Exception):\n",
    "            print(\"Missing field/result... skipping.\")\n",
    "    print(\"------------\")"
   ]
  },
  {
   "cell_type": "code",
   "execution_count": null,
   "metadata": {},
   "outputs": [],
   "source": [
    "print(len(num_fastfood_list_3))"
   ]
  },
  {
   "cell_type": "code",
   "execution_count": null,
   "metadata": {},
   "outputs": [],
   "source": [
    "yelp_api = YelpAPI(yelp_key_9)\n",
    "for index, row in zip_df_4.iterrows():\n",
    "\n",
    "    # get restaurant type from df\n",
    "    place = row['ZIP Code']\n",
    "\n",
    "    # assemble url and make API request\n",
    "    print(f\"Retrieving Results for Index {index}: {place}.\")\n",
    "    \n",
    "    \n",
    "    \n",
    "    try:\n",
    "        response = yelp_api.search_query(term=\"fast food\", location=place)\n",
    "        print(f\"The amount of fast food restaurants in {place} is {response['total']}.\")\n",
    "        num_fastfood_list_4.append(response[\"total\"])\n",
    "        zip_code_list_4.append(place)\n",
    "    except (Exception):\n",
    "            print(\"Missing field/result... skipping.\")\n",
    "    print(\"------------\")"
   ]
  },
  {
   "cell_type": "code",
   "execution_count": null,
   "metadata": {},
   "outputs": [],
   "source": [
    "print(len(num_fastfood_list_4))"
   ]
  },
  {
   "cell_type": "code",
   "execution_count": null,
   "metadata": {},
   "outputs": [],
   "source": [
    "yelp_api = YelpAPI(yelp_key_10)\n",
    "for index, row in zip_df_5.iterrows():\n",
    "\n",
    "    # get restaurant type from df\n",
    "    place = row['ZIP Code']\n",
    "\n",
    "    # assemble url and make API request\n",
    "    print(f\"Retrieving Results for Index {index}: {place}.\")\n",
    "    \n",
    "    \n",
    "    \n",
    "    try:\n",
    "        response = yelp_api.search_query(term=\"fast food\", location=place)\n",
    "        print(f\"The amount of fast food restaurants in {place} is {response['total']}.\")\n",
    "        num_fastfood_list_5.append(response[\"total\"])\n",
    "        zip_code_list_5.append(place)\n",
    "    except (Exception):\n",
    "            print(\"Missing field/result... skipping.\")\n",
    "    print(\"------------\")"
   ]
  },
  {
   "cell_type": "code",
   "execution_count": null,
   "metadata": {},
   "outputs": [],
   "source": [
    "yelp_results_df_v2 = pd.DataFrame({\n",
    "    \"zip code\":zip_code_list_1+ zip_code_list_1b + zip_code_list_2+zip_code_list_3+zip_code_list_4+zip_code_list_5,\n",
    "    \"num_of_fast_food\":num_fastfood_list_1 + num_fastfood_list_1b + num_fastfood_list_2 + num_fastfood_list_3 + num_fastfood_list_4 + num_fastfood_list_5\n",
    "})"
   ]
  },
  {
   "cell_type": "code",
   "execution_count": null,
   "metadata": {},
   "outputs": [],
   "source": [
    "yelp_results_df_v2.head()"
   ]
  },
  {
   "cell_type": "code",
   "execution_count": null,
   "metadata": {},
   "outputs": [],
   "source": [
    "yelp_results_df_v2.to_csv('C:/Users/Teresa Barajas/Anaconda/Anaconda3/envs/API/FinalProject/yelp_results_V2.csv')"
   ]
  },
  {
   "cell_type": "code",
   "execution_count": null,
   "metadata": {},
   "outputs": [],
   "source": []
  }
 ],
 "metadata": {
  "kernelspec": {
   "display_name": "Python 3",
   "language": "python",
   "name": "python3"
  },
  "language_info": {
   "codemirror_mode": {
    "name": "ipython",
    "version": 3
   },
   "file_extension": ".py",
   "mimetype": "text/x-python",
   "name": "python",
   "nbconvert_exporter": "python",
   "pygments_lexer": "ipython3",
   "version": "3.7.0"
  }
 },
 "nbformat": 4,
 "nbformat_minor": 2
}
